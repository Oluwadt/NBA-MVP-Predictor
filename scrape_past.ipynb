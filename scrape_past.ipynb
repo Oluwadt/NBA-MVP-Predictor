{
  "cells": [
    {
      "cell_type": "code",
      "execution_count": 1,
      "metadata": {
        "id": "cPBsfq5X5zf9"
      },
      "outputs": [],
      "source": [
        "import requests, os, re\n",
        "from bs4 import BeautifulSoup\n",
        "import pandas as pd"
      ]
    },
    {
      "cell_type": "code",
      "execution_count": 13,
      "metadata": {
        "id": "8XN8BcV06bnq"
      },
      "outputs": [],
      "source": [
        "# Creat list of URLs of the APIs to call in order to get pas season stats\n",
        "years = list(range(1990,2024))\n",
        "api_urls = [f\"https://stats.nba.com/stats/leagueLeaders?LeagueID=00&PerMode=PerGame&Scope=S&Season={year}-{str(year+1)[-2:]}&SeasonType=Regular%20Season&StatCategory=PTS\" for year in years]"
      ]
    },
    {
      "cell_type": "code",
      "execution_count": 14,
      "metadata": {
        "colab": {
          "base_uri": "https://localhost:8080/",
          "height": 35
        },
        "id": "0wXUbxRC9NOx",
        "outputId": "a5424a8f-43f3-420b-a811-aab9c7f7e5c0"
      },
      "outputs": [
        {
          "data": {
            "application/vnd.google.colaboratory.intrinsic+json": {
              "type": "string"
            },
            "text/plain": [
              "'https://www.nba.com/stats/leaders?Season=1990-91&SeasonType=Regular%20Season'"
            ]
          },
          "execution_count": 14,
          "metadata": {},
          "output_type": "execute_result"
        }
      ],
      "source": []
    }
  ],
  "metadata": {
    "colab": {
      "provenance": []
    },
    "kernelspec": {
      "display_name": "Python 3",
      "name": "python3"
    },
    "language_info": {
      "name": "python"
    }
  },
  "nbformat": 4,
  "nbformat_minor": 0
}
