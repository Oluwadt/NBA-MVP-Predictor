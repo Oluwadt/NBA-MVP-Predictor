{
  "nbformat": 4,
  "nbformat_minor": 0,
  "metadata": {
    "colab": {
      "provenance": []
    },
    "kernelspec": {
      "name": "python3",
      "display_name": "Python 3"
    },
    "language_info": {
      "name": "python"
    }
  },
  "cells": [
    {
      "cell_type": "code",
      "execution_count": 1,
      "metadata": {
        "id": "cPBsfq5X5zf9"
      },
      "outputs": [],
      "source": [
        "import requests, os, re\n",
        "from bs4 import BeautifulSoup\n",
        "import pandas as pd"
      ]
    },
    {
      "cell_type": "code",
      "source": [
        "years = list(range(1990,2024))\n",
        "urls = [f'https://www.nba.com/stats/leaders?Season={year}-{str(year+1)[-2:]}&SeasonType=Regular%20Season' for year in years]"
      ],
      "metadata": {
        "id": "8XN8BcV06bnq"
      },
      "execution_count": 13,
      "outputs": []
    },
    {
      "cell_type": "code",
      "source": [
        "urls[0]"
      ],
      "metadata": {
        "colab": {
          "base_uri": "https://localhost:8080/",
          "height": 35
        },
        "id": "0wXUbxRC9NOx",
        "outputId": "a5424a8f-43f3-420b-a811-aab9c7f7e5c0"
      },
      "execution_count": 14,
      "outputs": [
        {
          "output_type": "execute_result",
          "data": {
            "text/plain": [
              "'https://www.nba.com/stats/leaders?Season=1990-91&SeasonType=Regular%20Season'"
            ],
            "application/vnd.google.colaboratory.intrinsic+json": {
              "type": "string"
            }
          },
          "metadata": {},
          "execution_count": 14
        }
      ]
    }
  ]
}