{
  "cells": [
    {
      "cell_type": "code",
      "execution_count": 1,
      "metadata": {
        "id": "cPBsfq5X5zf9"
      },
      "outputs": [],
      "source": [
        "import requests, os, re\n",
        "from bs4 import BeautifulSoup\n",
        "import pandas as pd"
      ]
    },
    {
      "cell_type": "code",
      "execution_count": 13,
      "metadata": {
        "id": "8XN8BcV06bnq"
      },
      "outputs": [],
      "source": [
        "# Create list of URLs of the APIs to call in order to get pas season stats\n",
        "years = list(range(1990,2024))"
      ]
    },
    {
      "cell_type": "code",
      "execution_count": null,
      "metadata": {
        "colab": {
          "base_uri": "https://localhost:8080/",
          "height": 35
        },
        "id": "0wXUbxRC9NOx",
        "outputId": "a5424a8f-43f3-420b-a811-aab9c7f7e5c0"
      },
      "outputs": [],
      "source": [
        "# Function to get JSON data\n",
        "def get_data(url):\n",
        "    response = requests.get(url)\n",
        "    # Check the response status code\n",
        "    if response.status_code == 200:\n",
        "        # If successful, try parsing as JSON\n",
        "        try:\n",
        "            data = response.json()\n",
        "        except requests.exceptions.JSONDecodeError:\n",
        "            print(\"Response content is not valid JSON:\")\n",
        "            print(response.text)\n",
        "    else:\n",
        "        # If error, print status code and content\n",
        "        print(f\"Request failed with status code: {response.status_code}\")\n",
        "        data = response.text\n",
        "\n",
        "    return data"
      ]
    },
    {
      "cell_type": "code",
      "execution_count": null,
      "metadata": {},
      "outputs": [],
      "source": [
        "# Function to make a pandas dataframe with the stats\n",
        "def create_df(data, year):\n",
        "    # Get the table headers and stats from the JSON data\n",
        "    headers = data['resultSet']['headers']\n",
        "    stats = data['resultSet']['rowSet']\n",
        "    # Create the dataframe\n",
        "    df = pd.DataFrame(stats, columns=headers)\n",
        "    df['Year'] = year\n",
        "    return df"
      ]
    },
    {
      "cell_type": "code",
      "execution_count": null,
      "metadata": {},
      "outputs": [],
      "source": [
        "# Create a folder to store all the data\n",
        "os.makedirs(\"nba_stats\", exist_ok=True)\n",
        "\n",
        "# Loop through api_urls and create CSV files\n",
        "for year in years:\n",
        "  data = get_data(f\"https://stats.nba.com/stats/leagueLeaders?LeagueID=00&PerMode=PerGame&Scope=S&Season={year}-{str(year+1)[-2:]}&SeasonType=Regular%20Season&StatCategory=PTS\")\n",
        "  df = create_df(data, year)\n",
        "  df.to_csv(f\"nba_stats/{year}-{str(year+1)[-2:]}.csv\", index=False)"
      ]
    }
  ],
  "metadata": {
    "colab": {
      "provenance": []
    },
    "kernelspec": {
      "display_name": "Python 3",
      "name": "python3"
    },
    "language_info": {
      "name": "python"
    }
  },
  "nbformat": 4,
  "nbformat_minor": 0
}
