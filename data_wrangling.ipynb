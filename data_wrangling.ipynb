{
 "cells": [
  {
   "cell_type": "code",
   "execution_count": 109,
   "metadata": {},
   "outputs": [],
   "source": [
    "import pandas as pd"
   ]
  },
  {
   "cell_type": "code",
   "execution_count": 110,
   "metadata": {},
   "outputs": [],
   "source": [
    "def merge_data(stat_df, mvp_df):\n",
    "    stat_df.drop(columns=['TEAM', 'PLAYER_ID', 'TEAM_ID', 'RANK', 'Year'], inplace=True)\n",
    "    mvp_df = mvp_df.rename(columns={\n",
    "    'Player': 'PLAYER',\n",
    "    'Rank': 'RANK',\n",
    "    'Year': 'YEAR'\n",
    "    })\n",
    "    mvp_df = mvp_df[['PLAYER', 'YEAR', 'RANK']]\n",
    "    mvp_df['RANK'] = (mvp_df['RANK'].index) + 1\n",
    "    df_merged = pd.merge(stat_df, mvp_df, on='PLAYER', how='left')\n",
    "    df_merged['YEAR'] = 2001\n",
    "    df_merged['RANK'] = df_merged['RANK'].fillna(0)\n",
    "    return df_merged"
   ]
  },
  {
   "cell_type": "code",
   "execution_count": 111,
   "metadata": {},
   "outputs": [],
   "source": [
    "years = list(range(1990,2024))\n",
    "combined_past_data = pd.DataFrame()"
   ]
  },
  {
   "cell_type": "code",
   "execution_count": 112,
   "metadata": {},
   "outputs": [],
   "source": [
    "for year in years:\n",
    "    stat_df = pd.read_csv(f'nba_stats/{year}-{str(year+1)[-2:]}.csv')\n",
    "    mvp_df = pd.read_csv(f'past_mvps/mvps_{year+1}.csv')\n",
    "    df_merged = merge_data(stat_df, mvp_df)\n",
    "    combined_past_data = pd.concat([combined_past_data, df_merged])"
   ]
  },
  {
   "cell_type": "code",
   "execution_count": 113,
   "metadata": {},
   "outputs": [],
   "source": [
    "combined_past_data.to_csv(f\"combined_past_data.csv\", index=False)"
   ]
  }
 ],
 "metadata": {
  "kernelspec": {
   "display_name": "base",
   "language": "python",
   "name": "python3"
  },
  "language_info": {
   "codemirror_mode": {
    "name": "ipython",
    "version": 3
   },
   "file_extension": ".py",
   "mimetype": "text/x-python",
   "name": "python",
   "nbconvert_exporter": "python",
   "pygments_lexer": "ipython3",
   "version": "3.12.4"
  }
 },
 "nbformat": 4,
 "nbformat_minor": 2
}
