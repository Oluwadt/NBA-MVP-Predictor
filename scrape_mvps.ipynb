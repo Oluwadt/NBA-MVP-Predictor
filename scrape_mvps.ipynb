{
 "cells": [
  {
   "cell_type": "code",
   "execution_count": null,
   "metadata": {},
   "outputs": [],
   "source": [
    "import requests, os, re, json\n",
    "from bs4 import BeautifulSoup\n",
    "import pandas as pd\n",
    "from io import StringIO"
   ]
  },
  {
   "cell_type": "code",
   "execution_count": null,
   "metadata": {},
   "outputs": [],
   "source": [
    "# Define function to get dataframe containing past top MVP candidates\n",
    "def get_df(url, year):\n",
    "    res = requests.get(url)\n",
    "\n",
    "    try:\n",
    "        res.raise_for_status()\n",
    "    except Exception as exc:\n",
    "        print('There was a problem: %s' % exc)\n",
    "\n",
    "    res.encoding = 'utf-8'\n",
    "    soup = BeautifulSoup(res.text, features=\"html.parser\")\n",
    "\n",
    "    table = soup.select(\"table#mvp\")[0]\n",
    "    useless_header = table.find('tr', class_='over_header')\n",
    "    useless_header.decompose()\n",
    "    table_html = str(table)\n",
    "    table_io = StringIO(table_html)\n",
    "    df = pd.read_html(table_io)[0]\n",
    "    df[\"Year\"] = year\n",
    "    return df"
   ]
  },
  {
   "cell_type": "code",
   "execution_count": null,
   "metadata": {},
   "outputs": [],
   "source": [
    "# Create years list\n",
    "years = list(range(2022,2024))\n",
    "\n",
    "# Create folder to contain mvp data\n",
    "os.makedirs(\"past_mvps\", exist_ok=True)\n",
    "\n",
    "# Loop through the years and create CSV files to contain data from each year\n",
    "for year in years:\n",
    "    url = f\"https://www.basketball-reference.com/awards/awards_{year}.html\"\n",
    "    data = get_df(url, year)\n",
    "    data.to_csv(f\"past_mvps/mvps_{year}.csv\", index=False)"
   ]
  }
 ],
 "metadata": {
  "kernelspec": {
   "display_name": "base",
   "language": "python",
   "name": "python3"
  },
  "language_info": {
   "name": "python",
   "version": "3.12.4"
  }
 },
 "nbformat": 4,
 "nbformat_minor": 2
}
