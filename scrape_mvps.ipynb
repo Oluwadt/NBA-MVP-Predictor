{
 "cells": [
  {
   "cell_type": "code",
   "execution_count": null,
   "metadata": {
    "vscode": {
     "languageId": "plaintext"
    }
   },
   "outputs": [],
   "source": [
    "import requests, os, re, json\n",
    "from bs4 import BeautifulSoup\n",
    "import pandas as pd\n",
    "from io import StringIO"
   ]
  },
  {
   "cell_type": "code",
   "execution_count": null,
   "metadata": {
    "vscode": {
     "languageId": "plaintext"
    }
   },
   "outputs": [],
   "source": [
    "# Define function to get dataframe containing past top MVP candidates\n",
    "def get_df(url, year):\n",
    "    res = requests.get(url)\n",
    "\n",
    "    try:\n",
    "        res.raise_for_status()\n",
    "    except Exception as exc:\n",
    "        print('There was a problem: %s' % exc)\n",
    "\n",
    "    res.encoding = 'utf-8'\n",
    "    soup = BeautifulSoup(res.text, features=\"html.parser\")\n",
    "\n",
    "    table = soup.select(\"table#mvp\")[0]\n",
    "    useless_header = table.find('tr', class_='over_header')\n",
    "    useless_header.decompose()\n",
    "    table_html = str(table)\n",
    "    table_io = StringIO(table_html)\n",
    "    df = pd.read_html(table_io)[0]\n",
    "    df[\"Year\"] = year\n",
    "    return df"
   ]
  }
 ],
 "metadata": {
  "language_info": {
   "name": "python"
  }
 },
 "nbformat": 4,
 "nbformat_minor": 2
}
